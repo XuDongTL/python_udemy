{
 "cells": [
  {
   "cell_type": "code",
   "execution_count": 2,
   "metadata": {
    "collapsed": true
   },
   "outputs": [],
   "source": [
    "def method1():\n",
    "    \n",
    "    l = []\n",
    "    for i in range(1000):\n",
    "        l = l + [i]"
   ]
  },
  {
   "cell_type": "code",
   "execution_count": 3,
   "metadata": {
    "collapsed": true
   },
   "outputs": [],
   "source": [
    "d = {'k1': (1,2,3,4)}"
   ]
  },
  {
   "cell_type": "code",
   "execution_count": 4,
   "metadata": {},
   "outputs": [
    {
     "data": {
      "text/plain": [
       "(1, 2, 3, 4)"
      ]
     },
     "execution_count": 4,
     "metadata": {},
     "output_type": "execute_result"
    }
   ],
   "source": [
    "d['k1']"
   ]
  },
  {
   "cell_type": "code",
   "execution_count": 30,
   "metadata": {},
   "outputs": [],
   "source": [
    "l=[1,2,3] # list"
   ]
  },
  {
   "cell_type": "code",
   "execution_count": 31,
   "metadata": {},
   "outputs": [],
   "source": [
    "t=(1,2,3) # tuple"
   ]
  },
  {
   "cell_type": "code",
   "execution_count": 32,
   "metadata": {},
   "outputs": [],
   "source": [
    "s=('123') # string"
   ]
  },
  {
   "cell_type": "code",
   "execution_count": 43,
   "metadata": {},
   "outputs": [],
   "source": [
    "big_l=[]\n",
    "for i in range(10):\n",
    "    big_l.append(i) "
   ]
  },
  {
   "cell_type": "code",
   "execution_count": 58,
   "metadata": {
    "collapsed": true
   },
   "outputs": [],
   "source": [
    "counter = [0] * 8"
   ]
  },
  {
   "cell_type": "code",
   "execution_count": 59,
   "metadata": {},
   "outputs": [],
   "source": [
    "counter[2] = 1"
   ]
  },
  {
   "cell_type": "code",
   "execution_count": 60,
   "metadata": {},
   "outputs": [
    {
     "data": {
      "text/plain": [
       "[0, 0, 1, 0, 0, 0, 0, 0]"
      ]
     },
     "execution_count": 60,
     "metadata": {},
     "output_type": "execute_result"
    }
   ],
   "source": [
    "counter"
   ]
  },
  {
   "cell_type": "code",
   "execution_count": 61,
   "metadata": {},
   "outputs": [],
   "source": [
    "counter.extend(counter[2:3])"
   ]
  },
  {
   "cell_type": "code",
   "execution_count": 63,
   "metadata": {},
   "outputs": [
    {
     "data": {
      "text/plain": [
       "[0, 0, 1, 0, 0, 0, 0, 0, 1]"
      ]
     },
     "execution_count": 63,
     "metadata": {},
     "output_type": "execute_result"
    }
   ],
   "source": [
    "counter"
   ]
  },
  {
   "cell_type": "code",
   "execution_count": 73,
   "metadata": {},
   "outputs": [
    {
     "name": "stdout",
     "output_type": "stream",
     "text": [
      "Length:   1; Size in bytes:   96\n",
      "Length:   2; Size in bytes:   96\n",
      "Length:   3; Size in bytes:   96\n",
      "Length:   4; Size in bytes:   96\n",
      "Length:   5; Size in bytes:  128\n",
      "Length:   6; Size in bytes:  128\n",
      "Length:   7; Size in bytes:  128\n",
      "Length:   8; Size in bytes:  128\n",
      "Length:   9; Size in bytes:  192\n",
      "Length:  10; Size in bytes:  192\n",
      "Length:  11; Size in bytes:  192\n",
      "Length:  12; Size in bytes:  192\n",
      "Length:  13; Size in bytes:  192\n",
      "Length:  14; Size in bytes:  192\n",
      "Length:  15; Size in bytes:  192\n",
      "Length:  16; Size in bytes:  192\n",
      "Length:  17; Size in bytes:  264\n",
      "Length:  18; Size in bytes:  264\n",
      "Length:  19; Size in bytes:  264\n",
      "Length:  20; Size in bytes:  264\n",
      "Length:  21; Size in bytes:  264\n",
      "Length:  22; Size in bytes:  264\n",
      "Length:  23; Size in bytes:  264\n",
      "Length:  24; Size in bytes:  264\n",
      "Length:  25; Size in bytes:  264\n",
      "Length:  26; Size in bytes:  344\n",
      "Length:  27; Size in bytes:  344\n",
      "Length:  28; Size in bytes:  344\n",
      "Length:  29; Size in bytes:  344\n",
      "Length:  30; Size in bytes:  344\n",
      "Length:  31; Size in bytes:  344\n",
      "Length:  32; Size in bytes:  344\n",
      "Length:  33; Size in bytes:  344\n",
      "Length:  34; Size in bytes:  344\n",
      "Length:  35; Size in bytes:  344\n",
      "Length:  36; Size in bytes:  432\n",
      "Length:  37; Size in bytes:  432\n",
      "Length:  38; Size in bytes:  432\n",
      "Length:  39; Size in bytes:  432\n",
      "Length:  40; Size in bytes:  432\n",
      "Length:  41; Size in bytes:  432\n",
      "Length:  42; Size in bytes:  432\n",
      "Length:  43; Size in bytes:  432\n",
      "Length:  44; Size in bytes:  432\n",
      "Length:  45; Size in bytes:  432\n",
      "Length:  46; Size in bytes:  432\n",
      "Length:  47; Size in bytes:  528\n",
      "Length:  48; Size in bytes:  528\n",
      "Length:  49; Size in bytes:  528\n",
      "Length:  50; Size in bytes:  528\n",
      "Length:  51; Size in bytes:  528\n",
      "Length:  52; Size in bytes:  528\n",
      "Length:  53; Size in bytes:  528\n",
      "Length:  54; Size in bytes:  528\n",
      "Length:  55; Size in bytes:  528\n",
      "Length:  56; Size in bytes:  528\n",
      "Length:  57; Size in bytes:  528\n",
      "Length:  58; Size in bytes:  528\n",
      "Length:  59; Size in bytes:  640\n",
      "Length:  60; Size in bytes:  640\n",
      "Length:  61; Size in bytes:  640\n",
      "Length:  62; Size in bytes:  640\n",
      "Length:  63; Size in bytes:  640\n",
      "Length:  64; Size in bytes:  640\n",
      "Length:  65; Size in bytes:  640\n",
      "Length:  66; Size in bytes:  640\n",
      "Length:  67; Size in bytes:  640\n",
      "Length:  68; Size in bytes:  640\n",
      "Length:  69; Size in bytes:  640\n",
      "Length:  70; Size in bytes:  640\n",
      "Length:  71; Size in bytes:  640\n",
      "Length:  72; Size in bytes:  640\n",
      "Length:  73; Size in bytes:  768\n",
      "Length:  74; Size in bytes:  768\n",
      "Length:  75; Size in bytes:  768\n",
      "Length:  76; Size in bytes:  768\n",
      "Length:  77; Size in bytes:  768\n",
      "Length:  78; Size in bytes:  768\n",
      "Length:  79; Size in bytes:  768\n",
      "Length:  80; Size in bytes:  768\n",
      "Length:  81; Size in bytes:  768\n",
      "Length:  82; Size in bytes:  768\n",
      "Length:  83; Size in bytes:  768\n",
      "Length:  84; Size in bytes:  768\n",
      "Length:  85; Size in bytes:  768\n",
      "Length:  86; Size in bytes:  768\n",
      "Length:  87; Size in bytes:  768\n",
      "Length:  88; Size in bytes:  768\n",
      "Length:  89; Size in bytes:  912\n",
      "Length:  90; Size in bytes:  912\n",
      "Length:  91; Size in bytes:  912\n",
      "Length:  92; Size in bytes:  912\n",
      "Length:  93; Size in bytes:  912\n",
      "Length:  94; Size in bytes:  912\n",
      "Length:  95; Size in bytes:  912\n",
      "Length:  96; Size in bytes:  912\n",
      "Length:  97; Size in bytes:  912\n",
      "Length:  98; Size in bytes:  912\n",
      "Length:  99; Size in bytes:  912\n",
      "Length: 100; Size in bytes:  912\n"
     ]
    }
   ],
   "source": [
    "# Dynamic Arrays\n",
    "import sys\n",
    "\n",
    "data =[]\n",
    "n = 100\n",
    "for i in range(n):\n",
    "    data.append(n)\n",
    "    a = len(data)\n",
    "    b = sys.getsizeof(data)\n",
    "    \n",
    "    print('Length: {0:3d}; Size in bytes: {1:4d}'.format(a, b))\n"
   ]
  },
  {
   "cell_type": "code",
   "execution_count": null,
   "metadata": {
    "collapsed": true
   },
   "outputs": [],
   "source": []
  }
 ],
 "metadata": {
  "kernelspec": {
   "display_name": "Python 3",
   "language": "python",
   "name": "python3"
  }
 },
 "nbformat": 4,
 "nbformat_minor": 2
}
